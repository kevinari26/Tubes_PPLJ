{
 "cells": [
  {
   "cell_type": "code",
   "execution_count": 20,
   "metadata": {},
   "outputs": [
    {
     "name": "stdout",
     "output_type": "stream",
     "text": [
      "kevin\n",
      "nasi goreng\n",
      "30\n"
     ]
    }
   ],
   "source": [
    "str = \"add kevin nasi goreng 30\"\n",
    "test = str.split(\" \", 2)\n",
    "print(test[1])\n",
    "test = test[2].rsplit(\" \", 1)\n",
    "print(test[0])\n",
    "print (test[1])\n",
    "# print (len(test[2]))"
   ]
  },
  {
   "cell_type": "code",
   "execution_count": 1,
   "metadata": {},
   "outputs": [
    {
     "name": "stdout",
     "output_type": "stream",
     "text": [
      "['halo']\n"
     ]
    }
   ],
   "source": [
    "temp = '   asdasd  sd '\n",
    "temp = \"halo\"\n",
    "print (temp.split(\" \"))"
   ]
  },
  {
   "cell_type": "code",
   "execution_count": 23,
   "metadata": {},
   "outputs": [
    {
     "name": "stdout",
     "output_type": "stream",
     "text": [
      "[4, 9]\n"
     ]
    },
    {
     "data": {
      "text/plain": [
       "0"
      ]
     },
     "execution_count": 23,
     "metadata": {},
     "output_type": "execute_result"
    }
   ],
   "source": [
    "x = [2, 3]\n",
    "print (list(map(lambda x:x*x, x)))\n",
    "x.index(2)"
   ]
  },
  {
   "cell_type": "code",
   "execution_count": 6,
   "metadata": {},
   "outputs": [
    {
     "name": "stdout",
     "output_type": "stream",
     "text": [
      "defaultdict(<class 'int'>, {})\n"
     ]
    }
   ],
   "source": [
    "from collections import defaultdict\n",
    "test = defaultdict(int)\n",
    "print (test)"
   ]
  },
  {
   "cell_type": "code",
   "execution_count": 12,
   "metadata": {},
   "outputs": [
    {
     "name": "stdout",
     "output_type": "stream",
     "text": [
      "1\n"
     ]
    }
   ],
   "source": [
    "temp = 10\n",
    "if (temp):\n",
    "    print (\"1\")\n",
    "else:\n",
    "    print (\"0\")"
   ]
  }
 ],
 "metadata": {
  "interpreter": {
   "hash": "43caff5dcc899c0940b8095911d08397191658f39841b9bb6363f0ab677136ac"
  },
  "kernelspec": {
   "display_name": "Python 3.7.3 64-bit",
   "language": "python",
   "name": "python3"
  },
  "language_info": {
   "codemirror_mode": {
    "name": "ipython",
    "version": 3
   },
   "file_extension": ".py",
   "mimetype": "text/x-python",
   "name": "python",
   "nbconvert_exporter": "python",
   "pygments_lexer": "ipython3",
   "version": "3.9.4"
  },
  "orig_nbformat": 4
 },
 "nbformat": 4,
 "nbformat_minor": 2
}
