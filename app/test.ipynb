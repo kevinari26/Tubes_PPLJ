{
 "cells": [
  {
   "cell_type": "code",
   "execution_count": 20,
   "metadata": {},
   "outputs": [
    {
     "name": "stdout",
     "output_type": "stream",
     "text": [
      "kevin\n",
      "nasi goreng\n",
      "30\n"
     ]
    }
   ],
   "source": [
    "str = \"add kevin nasi goreng 30\"\n",
    "test = str.split(\" \", 2)\n",
    "print(test[1])\n",
    "test = test[2].rsplit(\" \", 1)\n",
    "print(test[0])\n",
    "print (test[1])\n",
    "# print (len(test[2]))"
   ]
  },
  {
   "cell_type": "code",
   "execution_count": 7,
   "metadata": {},
   "outputs": [
    {
     "name": "stdout",
     "output_type": "stream",
     "text": [
      "10 57 31\n"
     ]
    }
   ],
   "source": [
    "from datetime import datetime, timedelta\n",
    "import pytz\n",
    "\n",
    "time = datetime.now().replace(tzinfo=pytz.timezone(\"Asia/Jakarta\"))\n",
    "print (time.strftime(\"%H %M %S\"))"
   ]
  },
  {
   "cell_type": "code",
   "execution_count": 3,
   "metadata": {},
   "outputs": [
    {
     "name": "stdout",
     "output_type": "stream",
     "text": [
      "Ford\n"
     ]
    },
    {
     "ename": "NameError",
     "evalue": "name 'KEYWORD_ADD' is not defined",
     "output_type": "error",
     "traceback": [
      "\u001b[1;31m---------------------------------------------------------------------------\u001b[0m",
      "\u001b[1;31mNameError\u001b[0m                                 Traceback (most recent call last)",
      "\u001b[1;32m<ipython-input-3-04e6180b586d>\u001b[0m in \u001b[0;36m<module>\u001b[1;34m\u001b[0m\n\u001b[0;32m      7\u001b[0m \u001b[1;33m\u001b[0m\u001b[0m\n\u001b[0;32m      8\u001b[0m KEYWORDS = (\n\u001b[1;32m----> 9\u001b[1;33m     \u001b[0mKEYWORD_ADD\u001b[0m\u001b[1;33m,\u001b[0m\u001b[1;33m\u001b[0m\u001b[1;33m\u001b[0m\u001b[0m\n\u001b[0m\u001b[0;32m     10\u001b[0m     \u001b[0mKEYWORD_TOTAL\u001b[0m\u001b[1;33m,\u001b[0m\u001b[1;33m\u001b[0m\u001b[1;33m\u001b[0m\u001b[0m\n\u001b[0;32m     11\u001b[0m     \u001b[0mKEYWORD_DETAIL\u001b[0m\u001b[1;33m,\u001b[0m\u001b[1;33m\u001b[0m\u001b[1;33m\u001b[0m\u001b[0m\n",
      "\u001b[1;31mNameError\u001b[0m: name 'KEYWORD_ADD' is not defined"
     ]
    }
   ],
   "source": [
    "dict = {\n",
    "  \"brand\": \"Ford\",\n",
    "  \"model\": \"Mustang\",\n",
    "  \"year\": 1964\n",
    "}\n",
    "print (dict[\"brand\"])\n",
    "\n",
    "KEYWORDS = (\n",
    "    KEYWORD_ADD,\n",
    "    KEYWORD_TOTAL,\n",
    "    KEYWORD_DETAIL,\n",
    "    KEYWORD_PAY,\n",
    "    KEYWORD_CANCEL,\n",
    "    KEYWORD_TRANSFER,\n",
    "    KEYWORD_HELP,\n",
    "    KEYWORD_ADD_STOCK,\n",
    "    KEYWORD_LIST_STOCK,\n",
    "    KEYWORD_TAKE_STOCK,\n",
    "    KEYWORD_CALC_PRICE_STOCK,\n",
    "    KEYWORD_GIVE_STOCK,\n",
    "    KEYWORD_PAY_REAL,\n",
    ")\n",
    "HELP_ITEM_PER_PAGE = 7\n",
    "\n",
    "HELP_MESSAGE_TEXT = {\n",
    "    KEYWORD_ADD: \"Menambah utang orang lain ke kamu\",\n",
    "    KEYWORD_TOTAL: \"Melihat jumlah total utang dan piutang (digabung) milikmu\",\n",
    "    KEYWORD_DETAIL: \"Melihat detail utang seseorang ke kamu\",\n",
    "    KEYWORD_PAY: \"Melunaskan utang dan piutang seseorang ke kamu (2 arah)\",\n",
    "    KEYWORD_CANCEL: \"Membatalkan add utang terakhir dari seseorang. Max 1 menit\",\n",
    "    KEYWORD_TRANSFER: \"Memindahkan utang\",\n",
    "    KEYWORD_HELP: \"Menampilkan daftar keyword yang ada (dan cara pakai nya)\",\n",
    "    KEYWORD_ADD_STOCK: \"Menambah stok barang inventori (i.e: kulkas)\",\n",
    "    KEYWORD_LIST_STOCK: \"Menampilkan daftar stok barang\",\n",
    "    KEYWORD_TAKE_STOCK: \"Mengambil barang dari inventori\",\n",
    "    KEYWORD_CALC_PRICE_STOCK: \"Menghitung harga per pcs + add utang ke masing-masing\",\n",
    "    KEYWORD_GIVE_STOCK: \"Memberi sejumlah barang ke beberapa orang\",\n",
    "    KEYWORD_PAY_REAL: \"Membayar utang\",\n",
    "}\n",
    "\n",
    "# for kwd in constants.KEYWORDS[i * constants.HELP_ITEM_PER_PAGE: (i + 1) * constants.HELP_ITEM_PER_PAGE]"
   ]
  },
  {
   "cell_type": "code",
   "execution_count": 23,
   "metadata": {},
   "outputs": [
    {
     "name": "stdout",
     "output_type": "stream",
     "text": [
      "[4, 9]\n"
     ]
    },
    {
     "data": {
      "text/plain": [
       "0"
      ]
     },
     "execution_count": 23,
     "metadata": {},
     "output_type": "execute_result"
    }
   ],
   "source": [
    "x = [2, 3]\n",
    "print (list(map(lambda x:x*x, x)))\n",
    "x.index(2)"
   ]
  },
  {
   "cell_type": "code",
   "execution_count": 6,
   "metadata": {},
   "outputs": [
    {
     "name": "stdout",
     "output_type": "stream",
     "text": [
      "defaultdict(<class 'int'>, {})\n"
     ]
    }
   ],
   "source": [
    "from collections import defaultdict\n",
    "test = defaultdict(int)\n",
    "print (test)"
   ]
  },
  {
   "cell_type": "code",
   "execution_count": 12,
   "metadata": {},
   "outputs": [
    {
     "name": "stdout",
     "output_type": "stream",
     "text": [
      "1\n"
     ]
    }
   ],
   "source": [
    "temp = 10\n",
    "if (temp):\n",
    "    print (\"1\")\n",
    "else:\n",
    "    print (\"0\")"
   ]
  }
 ],
 "metadata": {
  "interpreter": {
   "hash": "43caff5dcc899c0940b8095911d08397191658f39841b9bb6363f0ab677136ac"
  },
  "kernelspec": {
   "display_name": "Python 3.7.3 64-bit",
   "language": "python",
   "name": "python3"
  },
  "language_info": {
   "codemirror_mode": {
    "name": "ipython",
    "version": 3
   },
   "file_extension": ".py",
   "mimetype": "text/x-python",
   "name": "python",
   "nbconvert_exporter": "python",
   "pygments_lexer": "ipython3",
   "version": "3.9.4"
  },
  "orig_nbformat": 4
 },
 "nbformat": 4,
 "nbformat_minor": 2
}
