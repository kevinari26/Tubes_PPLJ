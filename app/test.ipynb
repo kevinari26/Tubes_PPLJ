{
 "cells": [
  {
   "cell_type": "code",
   "execution_count": 46,
   "metadata": {},
   "outputs": [
    {
     "data": {
      "text/plain": [
       "3"
      ]
     },
     "execution_count": 46,
     "metadata": {},
     "output_type": "execute_result"
    }
   ],
   "source": [
    "arr = [1, 2, 3, 5]\n",
    "index = [x for x in arr if x == 5]\n",
    "if (len(index)):\n",
    "    index = arr.index(index[0])\n",
    "index\n",
    "\n",
    "# arr.index (4)\n",
    "# temp = []\n",
    "# len(temp)"
   ]
  },
  {
   "cell_type": "code",
   "execution_count": 28,
   "metadata": {},
   "outputs": [
    {
     "name": "stdout",
     "output_type": "stream",
     "text": [
      "1.500\n"
     ]
    }
   ],
   "source": [
    "def func1 ():\n",
    "    return 1, 2, 3\n",
    "\n",
    "x, y, z = func1()\n",
    "\n",
    "x = 1.5\n",
    "print (\"%.3f\" % (x))"
   ]
  },
  {
   "cell_type": "code",
   "execution_count": 2,
   "metadata": {},
   "outputs": [
    {
     "name": "stdout",
     "output_type": "stream",
     "text": [
      "11 16 06\n"
     ]
    }
   ],
   "source": [
    "from datetime import datetime, timedelta\n",
    "# import datetime\n",
    "import pytz\n",
    "\n",
    "time = datetime.now().replace(tzinfo=pytz.timezone(\"Asia/Jakarta\"))\n",
    "print (time.strftime(\"%H %M %S\"))"
   ]
  },
  {
   "cell_type": "code",
   "execution_count": 15,
   "metadata": {},
   "outputs": [
    {
     "name": "stdout",
     "output_type": "stream",
     "text": [
      "['a', 'b']\n"
     ]
    }
   ],
   "source": [
    "msgArr = [\"a\", 'b'] \n",
    "print (\"%s\" % (msgArr))\n",
    "# tempArr = msg.split(\" \", 1)[1].strip().split(\" \") # penampung username\n",
    "# tempArr"
   ]
  },
  {
   "cell_type": "code",
   "execution_count": 23,
   "metadata": {},
   "outputs": [
    {
     "name": "stdout",
     "output_type": "stream",
     "text": [
      "[4, 9]\n"
     ]
    },
    {
     "data": {
      "text/plain": [
       "0"
      ]
     },
     "execution_count": 23,
     "metadata": {},
     "output_type": "execute_result"
    }
   ],
   "source": [
    "x = [2, 3]\n",
    "print (list(map(lambda x:x*x, x)))\n",
    "x.index(2)"
   ]
  },
  {
   "cell_type": "code",
   "execution_count": 12,
   "metadata": {},
   "outputs": [
    {
     "name": "stdout",
     "output_type": "stream",
     "text": [
      "1\n"
     ]
    }
   ],
   "source": [
    "temp = 10\n",
    "if (temp):\n",
    "    print (\"1\")\n",
    "else:\n",
    "    print (\"0\")"
   ]
  }
 ],
 "metadata": {
  "interpreter": {
   "hash": "43caff5dcc899c0940b8095911d08397191658f39841b9bb6363f0ab677136ac"
  },
  "kernelspec": {
   "display_name": "Python 3.7.3 64-bit",
   "language": "python",
   "name": "python3"
  },
  "language_info": {
   "codemirror_mode": {
    "name": "ipython",
    "version": 3
   },
   "file_extension": ".py",
   "mimetype": "text/x-python",
   "name": "python",
   "nbconvert_exporter": "python",
   "pygments_lexer": "ipython3",
   "version": "3.9.4"
  },
  "orig_nbformat": 4
 },
 "nbformat": 4,
 "nbformat_minor": 2
}
