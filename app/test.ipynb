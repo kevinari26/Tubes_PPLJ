{
 "cells": [
  {
   "cell_type": "code",
   "execution_count": 6,
   "metadata": {},
   "outputs": [
    {
     "data": {
      "text/plain": [
       "-1"
      ]
     },
     "execution_count": 6,
     "metadata": {},
     "output_type": "execute_result"
    }
   ],
   "source": [
    "def searchArr (arr, eleToSearch): # search dari array, return indexnya (-1 = tidak ditemukan) \n",
    "    searchResult = [x for x in arr if x == eleToSearch]\n",
    "    if (len(searchResult)):\n",
    "        return arr.index(searchResult[0])\n",
    "    else:\n",
    "        return -1\n",
    "\n",
    "arr = [1, 2, 3, 5]\n",
    "arr2 = []\n",
    "searchArr (arr2, 5)"
   ]
  },
  {
   "cell_type": "code",
   "execution_count": 30,
   "metadata": {},
   "outputs": [
    {
     "name": "stdout",
     "output_type": "stream",
     "text": [
      "1 2 3 5 \n",
      "[1, 2, 3, 5]\n"
     ]
    }
   ],
   "source": [
    "arr = [1, 2, 3, 5]\n",
    "string = \"\"\n",
    "for ele in arr:\n",
    "    string += \"%d \" % (ele)\n",
    "print (string)\n",
    "\n",
    "# stringArr = string.split()\n",
    "# int(stringArr[0])\n",
    "\n",
    "arrNomor = list(map(int, string.split()))\n",
    "print (arrNomor)"
   ]
  },
  {
   "cell_type": "code",
   "execution_count": 6,
   "metadata": {},
   "outputs": [
    {
     "name": "stdout",
     "output_type": "stream",
     "text": [
      "18 16 25\n"
     ]
    }
   ],
   "source": [
    "from datetime import datetime, timedelta\n",
    "# import datetime\n",
    "import pytz\n",
    "\n",
    "time_insert = datetime.now().replace(tzinfo=pytz.timezone(\"Asia/Jakarta\"))\n",
    "time = datetime.now().replace(tzinfo=pytz.timezone(\"Asia/Jakarta\"))\n",
    "time = datetime.now() + timedelta(hours=9)\n",
    "print (time.strftime(\"%H %M %S\"))"
   ]
  },
  {
   "cell_type": "code",
   "execution_count": 15,
   "metadata": {},
   "outputs": [
    {
     "name": "stdout",
     "output_type": "stream",
     "text": [
      "['a', 'b']\n"
     ]
    }
   ],
   "source": [
    "msgArr = [\"a\", 'b'] \n",
    "print (\"%s\" % (msgArr))\n",
    "# tempArr = msg.split(\" \", 1)[1].strip().split(\" \") # penampung username\n",
    "# tempArr"
   ]
  },
  {
   "cell_type": "code",
   "execution_count": 23,
   "metadata": {},
   "outputs": [
    {
     "name": "stdout",
     "output_type": "stream",
     "text": [
      "[4, 9]\n"
     ]
    },
    {
     "data": {
      "text/plain": [
       "0"
      ]
     },
     "execution_count": 23,
     "metadata": {},
     "output_type": "execute_result"
    }
   ],
   "source": [
    "x = [2, 3]\n",
    "print (list(map(lambda x:x*x, x)))\n",
    "x.index(2)"
   ]
  }
 ],
 "metadata": {
  "interpreter": {
   "hash": "43caff5dcc899c0940b8095911d08397191658f39841b9bb6363f0ab677136ac"
  },
  "kernelspec": {
   "display_name": "Python 3.7.3 64-bit",
   "language": "python",
   "name": "python3"
  },
  "language_info": {
   "codemirror_mode": {
    "name": "ipython",
    "version": 3
   },
   "file_extension": ".py",
   "mimetype": "text/x-python",
   "name": "python",
   "nbconvert_exporter": "python",
   "pygments_lexer": "ipython3",
   "version": "3.9.4"
  },
  "orig_nbformat": 4
 },
 "nbformat": 4,
 "nbformat_minor": 2
}
